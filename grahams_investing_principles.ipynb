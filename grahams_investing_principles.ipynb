{
  "nbformat": 4,
  "nbformat_minor": 0,
  "metadata": {
    "colab": {
      "provenance": []
    },
    "kernelspec": {
      "name": "python3",
      "display_name": "Python 3"
    },
    "language_info": {
      "name": "python"
    }
  },
  "cells": [
    {
      "cell_type": "markdown",
      "source": [
        "## Main Idea\n",
        "This notebook provides framework for the stock assessment based on the principles of Benjamin Graham. He buys financially strong businesses that are undervalued. Here is the criteria's to which Benjamin selects the stocks to buy:\n",
        "\n",
        "1. P/E ratio as metric for market temperature. P/E <= 15\n",
        "2. Company size. Market cap over $10 billion.\n",
        "3. Good dividend record. Company should be paying dividends at least 10 consecutive years.\n",
        "4. Price-to-book <= 1.5\n",
        "5. EPS over 10 years must grow ate least +33%.\n",
        "6. Current ratio >= 1.5. It's the ratio between current assets and current liabilities.\n",
        "7. Equity-to-total capital >= 50 %.\n",
        "8. Debt <= 110% of net current assets\n",
        "9. Long-term debt <= 50% of total capital\n",
        "10. Margin of safety at least 30%. It's calculated by the formula\n",
        "\n",
        "---\n",
        "V = EPS * (8,5 + 2g)\n",
        "\n",
        "Where:\n",
        "\n",
        "* V = intrinsic value (per share)\n",
        "* EPS = earnings per share (trailing 12 months)\n",
        "* g = expected annual growth rate (%) over 7–10 years\n",
        "\n",
        "---\n",
        "g = (EPSend/EPSstart) ^ (1/n) - 1\n",
        "\n",
        "Where:\n",
        "* n = number of years\n",
        "---\n",
        "MoS = (V-P)/V\n",
        "\n",
        "Where:\n",
        "* P = current market price\n",
        "\n",
        "\n",
        "\n",
        "\n"
      ],
      "metadata": {
        "id": "XPHEyMRK5PmT"
      }
    },
    {
      "cell_type": "markdown",
      "source": [
        "#### Data collection and Metrics Calcualtion"
      ],
      "metadata": {
        "id": "gwGD6_IHbttg"
      }
    },
    {
      "cell_type": "markdown",
      "source": [
        "**Ticker object creation and market cap**"
      ],
      "metadata": {
        "id": "lDRTmdBNgBlQ"
      }
    },
    {
      "cell_type": "code",
      "execution_count": 7,
      "metadata": {
        "colab": {
          "base_uri": "https://localhost:8080/"
        },
        "id": "B_qktOHb5EJy",
        "outputId": "a4649b18-78e6-40b0-8963-6c44ac6a32c4"
      },
      "outputs": [
        {
          "output_type": "stream",
          "name": "stdout",
          "text": [
            "{'market_cap': 3512776855559.0625}\n"
          ]
        }
      ],
      "source": [
        "import yfinance as yf\n",
        "import pandas as pd\n",
        "\n",
        "# Apple for example usage\n",
        "ticker = \"AAPL\"\n",
        "stock = yf.Ticker(ticker)\n",
        "\n",
        "# Collection of calculated metrics\n",
        "foundational_metrics = {}\n",
        "\n",
        "# Market cap\n",
        "foundational_metrics[\"market_cap\"] = stock.fast_info.market_cap\n"
      ]
    },
    {
      "cell_type": "markdown",
      "source": [
        "Market cap is higher than \\$10 billion dollars, which goes under the criteria"
      ],
      "metadata": {
        "id": "KoytJP74iC4a"
      }
    },
    {
      "cell_type": "markdown",
      "source": [
        "**P/E calculation**"
      ],
      "metadata": {
        "id": "l2QYtAckf_rq"
      }
    },
    {
      "cell_type": "code",
      "source": [
        "# Latest stock price\n",
        "price = stock.fast_info.last_price\n",
        "\n",
        "# Income statement (annual)\n",
        "income_stmt = stock.income_stmt.T\n",
        "\n",
        "# Extract Net Income\n",
        "net_income = income_stmt[\"Net Income\"]\n",
        "\n",
        "# Balance sheet for shares outstanding\n",
        "balance_sheet = stock.balance_sheet.T\n",
        "shares_out = balance_sheet[\"Ordinary Shares Number\"]\n",
        "\n",
        "# Compute EPS = Net Income / Shares\n",
        "eps = net_income / shares_out\n",
        "\n",
        "eps = eps.dropna().sort_index()  # clean\n",
        "eps_last3 = eps.tail(3)          # last 3 years\n",
        "eps_avg3 = eps_last3.mean()\n",
        "\n",
        "foundational_metrics[\"P/E\"] = round(price/eps_avg3, 2)\n",
        "\n",
        "print(\"3-year average EPS:\", round(eps_avg3, 2))\n",
        "print(f\"Graham P/E:{round(price/eps_avg3, 2)}\")"
      ],
      "metadata": {
        "colab": {
          "base_uri": "https://localhost:8080/"
        },
        "id": "OJVc7OjKdPgl",
        "outputId": "2da34dc5-5908-48fc-eed1-92c15680bfec"
      },
      "execution_count": 40,
      "outputs": [
        {
          "output_type": "stream",
          "name": "stdout",
          "text": [
            "3-year average EPS: 6.23\n",
            "Graham P/E:36.79\n"
          ]
        }
      ]
    },
    {
      "cell_type": "markdown",
      "source": [
        "It means that you'll pay \\$36  for \\$1 of annual earnings which is too much according to above mentioned criteria (<=15)"
      ],
      "metadata": {
        "id": "vQJ3Oi8nhT5V"
      }
    },
    {
      "cell_type": "markdown",
      "source": [
        "**Dividends**"
      ],
      "metadata": {
        "id": "QSp4IzNgiAoJ"
      }
    },
    {
      "cell_type": "code",
      "source": [
        "# Data about dividens\n",
        "dividends = stock.dividends\n",
        "\n",
        "# Calculation dividends by each year\n",
        "dividends = stock.dividends\n",
        "\n",
        "# Group by year, sum total dividends per year\n",
        "div_by_year = dividends.groupby(dividends.index.year).sum()\n",
        "\n",
        "foundational_metrics[\"dividends_for_past_10year\"] = True\n",
        "\n",
        "# Dividends for the past 10 years\n",
        "div_by_year.tail(10)"
      ],
      "metadata": {
        "colab": {
          "base_uri": "https://localhost:8080/",
          "height": 429
        },
        "id": "4NO7mHhUdW3F",
        "outputId": "130ea2c3-8284-46fa-a3f2-d2653fd42e45"
      },
      "execution_count": 42,
      "outputs": [
        {
          "output_type": "execute_result",
          "data": {
            "text/plain": [
              "Date\n",
              "2016    0.5575\n",
              "2017    0.6150\n",
              "2018    0.7050\n",
              "2019    0.7600\n",
              "2020    0.8075\n",
              "2021    0.8650\n",
              "2022    0.9100\n",
              "2023    0.9500\n",
              "2024    0.9900\n",
              "2025    0.7700\n",
              "Name: Dividends, dtype: float64"
            ],
            "text/html": [
              "<div>\n",
              "<style scoped>\n",
              "    .dataframe tbody tr th:only-of-type {\n",
              "        vertical-align: middle;\n",
              "    }\n",
              "\n",
              "    .dataframe tbody tr th {\n",
              "        vertical-align: top;\n",
              "    }\n",
              "\n",
              "    .dataframe thead th {\n",
              "        text-align: right;\n",
              "    }\n",
              "</style>\n",
              "<table border=\"1\" class=\"dataframe\">\n",
              "  <thead>\n",
              "    <tr style=\"text-align: right;\">\n",
              "      <th></th>\n",
              "      <th>Dividends</th>\n",
              "    </tr>\n",
              "    <tr>\n",
              "      <th>Date</th>\n",
              "      <th></th>\n",
              "    </tr>\n",
              "  </thead>\n",
              "  <tbody>\n",
              "    <tr>\n",
              "      <th>2016</th>\n",
              "      <td>0.5575</td>\n",
              "    </tr>\n",
              "    <tr>\n",
              "      <th>2017</th>\n",
              "      <td>0.6150</td>\n",
              "    </tr>\n",
              "    <tr>\n",
              "      <th>2018</th>\n",
              "      <td>0.7050</td>\n",
              "    </tr>\n",
              "    <tr>\n",
              "      <th>2019</th>\n",
              "      <td>0.7600</td>\n",
              "    </tr>\n",
              "    <tr>\n",
              "      <th>2020</th>\n",
              "      <td>0.8075</td>\n",
              "    </tr>\n",
              "    <tr>\n",
              "      <th>2021</th>\n",
              "      <td>0.8650</td>\n",
              "    </tr>\n",
              "    <tr>\n",
              "      <th>2022</th>\n",
              "      <td>0.9100</td>\n",
              "    </tr>\n",
              "    <tr>\n",
              "      <th>2023</th>\n",
              "      <td>0.9500</td>\n",
              "    </tr>\n",
              "    <tr>\n",
              "      <th>2024</th>\n",
              "      <td>0.9900</td>\n",
              "    </tr>\n",
              "    <tr>\n",
              "      <th>2025</th>\n",
              "      <td>0.7700</td>\n",
              "    </tr>\n",
              "  </tbody>\n",
              "</table>\n",
              "</div><br><label><b>dtype:</b> float64</label>"
            ]
          },
          "metadata": {},
          "execution_count": 42
        }
      ]
    },
    {
      "cell_type": "markdown",
      "source": [
        "For the past ten years Apple didn't miss a year of paying dividends. For the past year apple payed about \\$1 for owning 1 stock."
      ],
      "metadata": {
        "id": "iz_rIq_3jcxk"
      }
    },
    {
      "cell_type": "markdown",
      "source": [
        "**Price to book**"
      ],
      "metadata": {
        "id": "2InDcDB-js_o"
      }
    },
    {
      "cell_type": "code",
      "source": [
        "bs = stock.balance_sheet.T  # transpose → years as rows\n",
        "equity = bs[\"Stockholders Equity\"].iloc[0]  # latest year\n",
        "\n",
        "# Shares Outstanding\n",
        "shares_out = stock.fast_info.shares\n",
        "\n",
        "# Book Value per Share\n",
        "bvps = equity / shares_out\n",
        "\n",
        "# Price-to-Book\n",
        "pb_ratio = price / bvps\n",
        "\n",
        "print(\"Price:\", round(price,2))\n",
        "print(\"Book Value per Share:\", round(bvps, 2))\n",
        "print(\"P/B Ratio:\", round(pb_ratio, 2))\n",
        "\n",
        "foundational_metrics[\"P/B\"] = round(pb_ratio, 2)"
      ],
      "metadata": {
        "colab": {
          "base_uri": "https://localhost:8080/"
        },
        "id": "kaLhXH2xiblw",
        "outputId": "52df9a53-fc23-41c7-fd28-6ec7086c7d06"
      },
      "execution_count": 41,
      "outputs": [
        {
          "output_type": "stream",
          "name": "stdout",
          "text": [
            "Price: 229.31\n",
            "Book Value per Share: 3.72\n",
            "P/B Ratio: 61.68\n"
          ]
        }
      ]
    },
    {
      "cell_type": "markdown",
      "source": [
        "P/B ratio is higher than 1. Which means that market values 61 times the stock than it's accounting equity"
      ],
      "metadata": {
        "id": "44uSpV_YmRYd"
      }
    },
    {
      "cell_type": "markdown",
      "source": [
        "**Compound EPS for 10 years**\n",
        "Data collected from:\n",
        "https://www.macrotrends.net/stocks/charts/AAPL/apple/eps-earnings-per-share-diluted"
      ],
      "metadata": {
        "id": "FzAzmYC5mjej"
      }
    },
    {
      "cell_type": "code",
      "source": [
        "last_year_eps = 6.08 # for 2024\n",
        "past_10_year_eps = 1.61 # for 2014\n",
        "\n",
        "# Calculating for 10 years\n",
        "eps_growth_10years = ((last_year_eps/past_10_year_eps) - 1) * 100\n",
        "\n",
        "foundational_metrics[\"EPS_growth_10years\"] = round(eps_growth_10years, 2)\n",
        "print(f\"EPS growth for past 10 years is: {round(eps_growth_10years, 2)}%\")"
      ],
      "metadata": {
        "colab": {
          "base_uri": "https://localhost:8080/"
        },
        "id": "77q-EfQElU0F",
        "outputId": "9e854168-7ee7-4518-f344-0157c0cc2f2b"
      },
      "execution_count": 45,
      "outputs": [
        {
          "output_type": "stream",
          "name": "stdout",
          "text": [
            "EPS growth for past 10 years is: 277.64%\n"
          ]
        }
      ]
    },
    {
      "cell_type": "markdown",
      "source": [
        "Earnings per shar rose for 277% for past 10 years, which is passes the >33% condition."
      ],
      "metadata": {
        "id": "vrRD2ZfeqDPD"
      }
    },
    {
      "cell_type": "markdown",
      "source": [
        "**Current ratio**"
      ],
      "metadata": {
        "id": "zpTLFVpEqp43"
      }
    },
    {
      "cell_type": "code",
      "source": [
        "current_assets = bs[\"Current Assets\"].iloc[0]\n",
        "current_liabilities = bs[\"Current Liabilities\"].iloc[0]\n",
        "\n",
        "# Current ratio\n",
        "current_ratio = current_assets / current_liabilities\n",
        "print(\"Current Assets:\", current_assets)\n",
        "print(\"Current Liabilities:\", current_liabilities)\n",
        "print(\"Current Ratio:\", round(current_ratio, 2))\n",
        "\n",
        "foundational_metrics[\"current_ratio\"] = round(current_ratio, 2)"
      ],
      "metadata": {
        "colab": {
          "base_uri": "https://localhost:8080/"
        },
        "id": "xWPc5BITq9h_",
        "outputId": "d21f7a1a-5b79-4c63-df5c-1741492b4afa"
      },
      "execution_count": 53,
      "outputs": [
        {
          "output_type": "stream",
          "name": "stdout",
          "text": [
            "Current Assets: 152987000000.0\n",
            "Current Liabilities: 176392000000.0\n",
            "Current Ratio: 0.87\n"
          ]
        }
      ]
    },
    {
      "cell_type": "markdown",
      "source": [
        "The current ratio is lower than 1, which means it has more liabilities than assets."
      ],
      "metadata": {
        "id": "nLoA6bOkteik"
      }
    },
    {
      "cell_type": "markdown",
      "source": [
        "**Equity-to-total capital**"
      ],
      "metadata": {
        "id": "rlT4b8b2txvT"
      }
    },
    {
      "cell_type": "code",
      "source": [
        "# Shareholder equity\n",
        "equity = bs[\"Stockholders Equity\"].iloc[0]\n",
        "\n",
        "# Total Debt\n",
        "debt = bs[\"Total Debt\"].iloc[0]\n",
        "\n",
        "equity_to_total_capital = equity / (equity + debt)\n",
        "\n",
        "foundational_metrics[\"equity_to_total_capital\"] = round(equity_to_total_capital, 2)\n",
        "\n",
        "print(f\"ETTC: {round(equity_to_total_capital, 2)}\")"
      ],
      "metadata": {
        "colab": {
          "base_uri": "https://localhost:8080/"
        },
        "id": "F56beGr-uGlP",
        "outputId": "91a26d90-e2a0-4ddc-fb32-95a1c93d66f9"
      },
      "execution_count": 57,
      "outputs": [
        {
          "output_type": "stream",
          "name": "stdout",
          "text": [
            "ETTC: 0.35\n"
          ]
        }
      ]
    },
    {
      "cell_type": "markdown",
      "source": [
        "This metrics shows us that 65% of total capital is funded by the debt, which is not safe from the perspective of the value investor."
      ],
      "metadata": {
        "id": "lPoDWFsSvgUg"
      }
    },
    {
      "cell_type": "markdown",
      "source": [
        "**Debt and Long-term debt**"
      ],
      "metadata": {
        "id": "RyqYU1dwvx-w"
      }
    },
    {
      "cell_type": "code",
      "source": [
        "# Check for the debt conditions\n",
        "net_current = current_assets - current_liabilities\n",
        "debt_test =  debt <= 1.1 * net_current\n",
        "foundational_metrics[\"debt<=110%\"] = debt_test\n",
        "\n",
        "# Check for the long term debt\n",
        "long_term_debt = bs[\"Long Term Debt\"].iloc[0]\n",
        "total_capital = equity + long_term_debt\n",
        "long_debt_test = long_term_debt <= 0.5 * total_capital\n",
        "foundational_metrics[\"long_term_debt<=50%\"] = long_debt_test"
      ],
      "metadata": {
        "id": "rfUYdA82wBLe"
      },
      "execution_count": 61,
      "outputs": []
    },
    {
      "cell_type": "markdown",
      "source": [
        "**Margin of Safety**\n"
      ],
      "metadata": {
        "id": "U9anPRI6xtWz"
      }
    },
    {
      "cell_type": "code",
      "source": [
        " g = (last_year_eps/past_10_year_eps) ** (1/10) - 1\n",
        " v = eps_avg3 * (8.5 + 2 * g * 100)\n",
        " mos = (v - price)/ v\n",
        "\n",
        " print(f\"Expected Annual Growth Rate: {round(g * 100, 2)}%\")\n",
        " print(f\"Intrinsic value of the stock: {round(v, 2)} $\")\n",
        " print(f\"Margin of Safety {mos}\")\n",
        "\n",
        "\n",
        " foundational_metrics[\"intrinsic_value\"] = round(v, 2)\n",
        " foundational_metrics[\"margin_of_safety\"] = round(g * 100, 2)"
      ],
      "metadata": {
        "colab": {
          "base_uri": "https://localhost:8080/"
        },
        "id": "4cVve-k8x0HE",
        "outputId": "9650fc9e-c443-4fa5-a0ed-50ecd9c19882"
      },
      "execution_count": 68,
      "outputs": [
        {
          "output_type": "stream",
          "name": "stdout",
          "text": [
            "Expected Annual Growth Rate: 14.21%\n",
            "Intrinsic value of the stock: 230.12 $\n",
            "Margin of Safety 0.003539522223471661\n"
          ]
        }
      ]
    },
    {
      "cell_type": "markdown",
      "source": [
        "Intrinsic value of the stock is \\$230, which is only \\$1 difference between real price. This means it's fairly priced."
      ],
      "metadata": {
        "id": "jr1Zn_cez0EV"
      }
    },
    {
      "cell_type": "markdown",
      "source": [
        "#### Summary\n",
        "Apple stock according to the principles of Graham is not suitable for buying. Currently it's fairly priced and only goes 3 conditions out of 10, which is not good.\n",
        "\n",
        "\n",
        "**The idea of this feature it will fundamentally assess the stock according to the fundamentals and tell if it's overpriced, under praiced or fairly prices with intrinsic value of the stock.**"
      ],
      "metadata": {
        "id": "gQTzg8Qt0Ek4"
      }
    },
    {
      "cell_type": "code",
      "source": [
        "fm = pd.DataFrame([foundational_metrics])"
      ],
      "metadata": {
        "id": "eQxzhFz-odXd"
      },
      "execution_count": 74,
      "outputs": []
    },
    {
      "cell_type": "code",
      "source": [
        "fm"
      ],
      "metadata": {
        "colab": {
          "base_uri": "https://localhost:8080/",
          "height": 109
        },
        "id": "ybk4ifFn0Mzh",
        "outputId": "e52a966e-0c62-491e-c6fa-e2fc0a532812"
      },
      "execution_count": 73,
      "outputs": [
        {
          "output_type": "execute_result",
          "data": {
            "text/plain": [
              "     market_cap    P/E    P/B  dividends_for_past_10year  EPS_growth_10years  \\\n",
              "0  3.512777e+12  36.79  61.68                       True              277.64   \n",
              "\n",
              "   current_ratio  equity_to_total_capital  debt<=110%  long_term_debt<=50%  \\\n",
              "0           0.87                     0.35       False                False   \n",
              "\n",
              "   intrinsic_value  margin_of_safety  \n",
              "0           230.12             14.21  "
            ],
            "text/html": [
              "\n",
              "  <div id=\"df-51cb0a26-d6a1-41a2-ad8d-80697675cfcf\" class=\"colab-df-container\">\n",
              "    <div>\n",
              "<style scoped>\n",
              "    .dataframe tbody tr th:only-of-type {\n",
              "        vertical-align: middle;\n",
              "    }\n",
              "\n",
              "    .dataframe tbody tr th {\n",
              "        vertical-align: top;\n",
              "    }\n",
              "\n",
              "    .dataframe thead th {\n",
              "        text-align: right;\n",
              "    }\n",
              "</style>\n",
              "<table border=\"1\" class=\"dataframe\">\n",
              "  <thead>\n",
              "    <tr style=\"text-align: right;\">\n",
              "      <th></th>\n",
              "      <th>market_cap</th>\n",
              "      <th>P/E</th>\n",
              "      <th>P/B</th>\n",
              "      <th>dividends_for_past_10year</th>\n",
              "      <th>EPS_growth_10years</th>\n",
              "      <th>current_ratio</th>\n",
              "      <th>equity_to_total_capital</th>\n",
              "      <th>debt&lt;=110%</th>\n",
              "      <th>long_term_debt&lt;=50%</th>\n",
              "      <th>intrinsic_value</th>\n",
              "      <th>margin_of_safety</th>\n",
              "    </tr>\n",
              "  </thead>\n",
              "  <tbody>\n",
              "    <tr>\n",
              "      <th>0</th>\n",
              "      <td>3.512777e+12</td>\n",
              "      <td>36.79</td>\n",
              "      <td>61.68</td>\n",
              "      <td>True</td>\n",
              "      <td>277.64</td>\n",
              "      <td>0.87</td>\n",
              "      <td>0.35</td>\n",
              "      <td>False</td>\n",
              "      <td>False</td>\n",
              "      <td>230.12</td>\n",
              "      <td>14.21</td>\n",
              "    </tr>\n",
              "  </tbody>\n",
              "</table>\n",
              "</div>\n",
              "    <div class=\"colab-df-buttons\">\n",
              "\n",
              "  <div class=\"colab-df-container\">\n",
              "    <button class=\"colab-df-convert\" onclick=\"convertToInteractive('df-51cb0a26-d6a1-41a2-ad8d-80697675cfcf')\"\n",
              "            title=\"Convert this dataframe to an interactive table.\"\n",
              "            style=\"display:none;\">\n",
              "\n",
              "  <svg xmlns=\"http://www.w3.org/2000/svg\" height=\"24px\" viewBox=\"0 -960 960 960\">\n",
              "    <path d=\"M120-120v-720h720v720H120Zm60-500h600v-160H180v160Zm220 220h160v-160H400v160Zm0 220h160v-160H400v160ZM180-400h160v-160H180v160Zm440 0h160v-160H620v160ZM180-180h160v-160H180v160Zm440 0h160v-160H620v160Z\"/>\n",
              "  </svg>\n",
              "    </button>\n",
              "\n",
              "  <style>\n",
              "    .colab-df-container {\n",
              "      display:flex;\n",
              "      gap: 12px;\n",
              "    }\n",
              "\n",
              "    .colab-df-convert {\n",
              "      background-color: #E8F0FE;\n",
              "      border: none;\n",
              "      border-radius: 50%;\n",
              "      cursor: pointer;\n",
              "      display: none;\n",
              "      fill: #1967D2;\n",
              "      height: 32px;\n",
              "      padding: 0 0 0 0;\n",
              "      width: 32px;\n",
              "    }\n",
              "\n",
              "    .colab-df-convert:hover {\n",
              "      background-color: #E2EBFA;\n",
              "      box-shadow: 0px 1px 2px rgba(60, 64, 67, 0.3), 0px 1px 3px 1px rgba(60, 64, 67, 0.15);\n",
              "      fill: #174EA6;\n",
              "    }\n",
              "\n",
              "    .colab-df-buttons div {\n",
              "      margin-bottom: 4px;\n",
              "    }\n",
              "\n",
              "    [theme=dark] .colab-df-convert {\n",
              "      background-color: #3B4455;\n",
              "      fill: #D2E3FC;\n",
              "    }\n",
              "\n",
              "    [theme=dark] .colab-df-convert:hover {\n",
              "      background-color: #434B5C;\n",
              "      box-shadow: 0px 1px 3px 1px rgba(0, 0, 0, 0.15);\n",
              "      filter: drop-shadow(0px 1px 2px rgba(0, 0, 0, 0.3));\n",
              "      fill: #FFFFFF;\n",
              "    }\n",
              "  </style>\n",
              "\n",
              "    <script>\n",
              "      const buttonEl =\n",
              "        document.querySelector('#df-51cb0a26-d6a1-41a2-ad8d-80697675cfcf button.colab-df-convert');\n",
              "      buttonEl.style.display =\n",
              "        google.colab.kernel.accessAllowed ? 'block' : 'none';\n",
              "\n",
              "      async function convertToInteractive(key) {\n",
              "        const element = document.querySelector('#df-51cb0a26-d6a1-41a2-ad8d-80697675cfcf');\n",
              "        const dataTable =\n",
              "          await google.colab.kernel.invokeFunction('convertToInteractive',\n",
              "                                                    [key], {});\n",
              "        if (!dataTable) return;\n",
              "\n",
              "        const docLinkHtml = 'Like what you see? Visit the ' +\n",
              "          '<a target=\"_blank\" href=https://colab.research.google.com/notebooks/data_table.ipynb>data table notebook</a>'\n",
              "          + ' to learn more about interactive tables.';\n",
              "        element.innerHTML = '';\n",
              "        dataTable['output_type'] = 'display_data';\n",
              "        await google.colab.output.renderOutput(dataTable, element);\n",
              "        const docLink = document.createElement('div');\n",
              "        docLink.innerHTML = docLinkHtml;\n",
              "        element.appendChild(docLink);\n",
              "      }\n",
              "    </script>\n",
              "  </div>\n",
              "\n",
              "\n",
              "  <div id=\"id_b1bd11ea-5a23-4f6e-a4bb-94f4abea0083\">\n",
              "    <style>\n",
              "      .colab-df-generate {\n",
              "        background-color: #E8F0FE;\n",
              "        border: none;\n",
              "        border-radius: 50%;\n",
              "        cursor: pointer;\n",
              "        display: none;\n",
              "        fill: #1967D2;\n",
              "        height: 32px;\n",
              "        padding: 0 0 0 0;\n",
              "        width: 32px;\n",
              "      }\n",
              "\n",
              "      .colab-df-generate:hover {\n",
              "        background-color: #E2EBFA;\n",
              "        box-shadow: 0px 1px 2px rgba(60, 64, 67, 0.3), 0px 1px 3px 1px rgba(60, 64, 67, 0.15);\n",
              "        fill: #174EA6;\n",
              "      }\n",
              "\n",
              "      [theme=dark] .colab-df-generate {\n",
              "        background-color: #3B4455;\n",
              "        fill: #D2E3FC;\n",
              "      }\n",
              "\n",
              "      [theme=dark] .colab-df-generate:hover {\n",
              "        background-color: #434B5C;\n",
              "        box-shadow: 0px 1px 3px 1px rgba(0, 0, 0, 0.15);\n",
              "        filter: drop-shadow(0px 1px 2px rgba(0, 0, 0, 0.3));\n",
              "        fill: #FFFFFF;\n",
              "      }\n",
              "    </style>\n",
              "    <button class=\"colab-df-generate\" onclick=\"generateWithVariable('fm')\"\n",
              "            title=\"Generate code using this dataframe.\"\n",
              "            style=\"display:none;\">\n",
              "\n",
              "  <svg xmlns=\"http://www.w3.org/2000/svg\" height=\"24px\"viewBox=\"0 0 24 24\"\n",
              "       width=\"24px\">\n",
              "    <path d=\"M7,19H8.4L18.45,9,17,7.55,7,17.6ZM5,21V16.75L18.45,3.32a2,2,0,0,1,2.83,0l1.4,1.43a1.91,1.91,0,0,1,.58,1.4,1.91,1.91,0,0,1-.58,1.4L9.25,21ZM18.45,9,17,7.55Zm-12,3A5.31,5.31,0,0,0,4.9,8.1,5.31,5.31,0,0,0,1,6.5,5.31,5.31,0,0,0,4.9,4.9,5.31,5.31,0,0,0,6.5,1,5.31,5.31,0,0,0,8.1,4.9,5.31,5.31,0,0,0,12,6.5,5.46,5.46,0,0,0,6.5,12Z\"/>\n",
              "  </svg>\n",
              "    </button>\n",
              "    <script>\n",
              "      (() => {\n",
              "      const buttonEl =\n",
              "        document.querySelector('#id_b1bd11ea-5a23-4f6e-a4bb-94f4abea0083 button.colab-df-generate');\n",
              "      buttonEl.style.display =\n",
              "        google.colab.kernel.accessAllowed ? 'block' : 'none';\n",
              "\n",
              "      buttonEl.onclick = () => {\n",
              "        google.colab.notebook.generateWithVariable('fm');\n",
              "      }\n",
              "      })();\n",
              "    </script>\n",
              "  </div>\n",
              "\n",
              "    </div>\n",
              "  </div>\n"
            ],
            "application/vnd.google.colaboratory.intrinsic+json": {
              "type": "dataframe",
              "variable_name": "fm",
              "summary": "{\n  \"name\": \"fm\",\n  \"rows\": 1,\n  \"fields\": [\n    {\n      \"column\": \"market_cap\",\n      \"properties\": {\n        \"dtype\": \"number\",\n        \"std\": null,\n        \"min\": 3512776855559.0625,\n        \"max\": 3512776855559.0625,\n        \"num_unique_values\": 1,\n        \"samples\": [\n          3512776855559.0625\n        ],\n        \"semantic_type\": \"\",\n        \"description\": \"\"\n      }\n    },\n    {\n      \"column\": \"P/E\",\n      \"properties\": {\n        \"dtype\": \"number\",\n        \"std\": null,\n        \"min\": 36.79,\n        \"max\": 36.79,\n        \"num_unique_values\": 1,\n        \"samples\": [\n          36.79\n        ],\n        \"semantic_type\": \"\",\n        \"description\": \"\"\n      }\n    },\n    {\n      \"column\": \"P/B\",\n      \"properties\": {\n        \"dtype\": \"number\",\n        \"std\": null,\n        \"min\": 61.68,\n        \"max\": 61.68,\n        \"num_unique_values\": 1,\n        \"samples\": [\n          61.68\n        ],\n        \"semantic_type\": \"\",\n        \"description\": \"\"\n      }\n    },\n    {\n      \"column\": \"dividends_for_past_10year\",\n      \"properties\": {\n        \"dtype\": \"boolean\",\n        \"num_unique_values\": 1,\n        \"samples\": [\n          true\n        ],\n        \"semantic_type\": \"\",\n        \"description\": \"\"\n      }\n    },\n    {\n      \"column\": \"EPS_growth_10years\",\n      \"properties\": {\n        \"dtype\": \"number\",\n        \"std\": null,\n        \"min\": 277.64,\n        \"max\": 277.64,\n        \"num_unique_values\": 1,\n        \"samples\": [\n          277.64\n        ],\n        \"semantic_type\": \"\",\n        \"description\": \"\"\n      }\n    },\n    {\n      \"column\": \"current_ratio\",\n      \"properties\": {\n        \"dtype\": \"number\",\n        \"std\": null,\n        \"min\": 0.87,\n        \"max\": 0.87,\n        \"num_unique_values\": 1,\n        \"samples\": [\n          0.87\n        ],\n        \"semantic_type\": \"\",\n        \"description\": \"\"\n      }\n    },\n    {\n      \"column\": \"equity_to_total_capital\",\n      \"properties\": {\n        \"dtype\": \"number\",\n        \"std\": null,\n        \"min\": 0.35,\n        \"max\": 0.35,\n        \"num_unique_values\": 1,\n        \"samples\": [\n          0.35\n        ],\n        \"semantic_type\": \"\",\n        \"description\": \"\"\n      }\n    },\n    {\n      \"column\": \"debt<=110%\",\n      \"properties\": {\n        \"dtype\": \"boolean\",\n        \"num_unique_values\": 1,\n        \"samples\": [\n          false\n        ],\n        \"semantic_type\": \"\",\n        \"description\": \"\"\n      }\n    },\n    {\n      \"column\": \"long_term_debt<=50%\",\n      \"properties\": {\n        \"dtype\": \"boolean\",\n        \"num_unique_values\": 1,\n        \"samples\": [\n          false\n        ],\n        \"semantic_type\": \"\",\n        \"description\": \"\"\n      }\n    },\n    {\n      \"column\": \"intrinsic_value\",\n      \"properties\": {\n        \"dtype\": \"number\",\n        \"std\": null,\n        \"min\": 230.12,\n        \"max\": 230.12,\n        \"num_unique_values\": 1,\n        \"samples\": [\n          230.12\n        ],\n        \"semantic_type\": \"\",\n        \"description\": \"\"\n      }\n    },\n    {\n      \"column\": \"margin_of_safety\",\n      \"properties\": {\n        \"dtype\": \"number\",\n        \"std\": null,\n        \"min\": 14.21,\n        \"max\": 14.21,\n        \"num_unique_values\": 1,\n        \"samples\": [\n          14.21\n        ],\n        \"semantic_type\": \"\",\n        \"description\": \"\"\n      }\n    }\n  ]\n}"
            }
          },
          "metadata": {},
          "execution_count": 73
        }
      ]
    }
  ]
}